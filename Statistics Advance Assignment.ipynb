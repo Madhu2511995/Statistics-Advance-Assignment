{
 "cells": [
  {
   "cell_type": "markdown",
   "id": "f2922cb9-22a3-47ee-aee0-30dad39645e0",
   "metadata": {},
   "source": [
    "#### Q1. What is the Probability density function?\n",
    "\n",
    "#### Q2. What are the types of Probability distribution?\n",
    "\n",
    "#### Q3. Write a Python function to calculate the probability density function of a normal distribution with given mean and standard deviation at a given point.\n",
    "\n",
    "#### Q4. What are the properties of Binomial distribution? Give two examples of events where binomial distribution can be applied.\n",
    "\n",
    "#### Q5. Generate a random sample of size 1000 from a binomial distribution with probability of success 0.4 and plot a histogram of the results using matplotlib.\n",
    "\n",
    "#### Q6. Write a Python function to calculate the cumulative distribution function of a Poisson distribution with given mean at a given point.\n",
    "\n",
    "#### Q7. How Binomial distribution different from Poisson distribution?\n",
    "\n",
    "#### Q8. Generate a random sample of size 1000 from a Poisson distribution with mean 5 and calculate the sample mean and variance.\n",
    "\n",
    "#### Q9. How mean and variance are related in Binomial distribution and Poisson distribution?\n",
    "\n",
    "#### Q10. In normal distribution with respect to mean position, where does the least frequent data appear?"
   ]
  },
  {
   "cell_type": "markdown",
   "id": "1f33cd76-208d-4eb2-85ce-24c101ff0c69",
   "metadata": {},
   "source": [
    "# Answer"
   ]
  },
  {
   "cell_type": "markdown",
   "id": "3155955c-d116-43f0-b585-af03c88d4f00",
   "metadata": {},
   "source": [
    "### Q1. What is the Probability density function?"
   ]
  },
  {
   "cell_type": "markdown",
   "id": "510afb2c-049b-4437-972c-ecff064eaafc",
   "metadata": {},
   "source": [
    "The probability density function (PDF) is a statistical expression that defines the probability that some outcome will occur. In this function, the probability is the percentage of a dataset's distribution that falls between two criteria"
   ]
  },
  {
   "cell_type": "markdown",
   "id": "5224742b-62aa-4e44-b898-abbfba47507c",
   "metadata": {},
   "source": [
    "### Q2. What are the types of Probability distribution?"
   ]
  },
  {
   "cell_type": "markdown",
   "id": "00e02470-9cf8-4316-b774-1ff787ba0af9",
   "metadata": {},
   "source": [
    "### Discrete Probability Distribution: \n",
    "In a discrete probability distribution, the random variable can only take on specific, separate values, usually integers. Each value has an associated probability. Examples of discrete probability distributions include the Bernoulli distribution, Binomial distribution, Poisson distribution, and Geometric distribution.\n",
    "\n",
    "1. Bernoulli Distribution: \n",
    "-------------------------------------\n",
    "Describes a binary random variable with two possible outcomes (e.g., success or failure) and a single parameter p, representing the probability of success.\n",
    "\n",
    "2. Binomial Distribution: \n",
    "-------------------------------------\n",
    "Represents the number of successes in a fixed number of independent Bernoulli trials, where each trial has the same probability of success (p).\n",
    "\n",
    "3. Poisson Distribution:\n",
    "-------------------------------------\n",
    "Models the number of events that occur in a fixed interval of time or space, given a constant average rate of occurrence (λ).\n",
    "\n",
    "4. Geometric Distribution:\n",
    "-----------------------------------\n",
    "Models the number of trials needed until the first success in a series of independent Bernoulli trials with a constant probability of success (p).\n",
    "\n"
   ]
  },
  {
   "cell_type": "markdown",
   "id": "4c9c8c46-10a7-400f-8291-16b8afbd31d8",
   "metadata": {},
   "source": [
    "### Continuous Probability Distribution: \n",
    "In a continuous probability distribution, the random variable can take on any value within a specified range. The probability of the variable falling exactly on a particular value is usually zero. Examples of continuous probability distributions include the Normal distribution, Exponential distribution, Uniform distribution, and Beta distribution.\n",
    "\n",
    "1. Normal Distribution (Gaussian Distribution):\n",
    "--------------------------------------------------------\n",
    "One of the most common distributions, characterized by its bell-shaped curve, with mean (μ) and standard deviation (σ) as parameters.\n",
    "\n",
    "In a normal distribution, data is symmetrically distributed with no skew. When plotted on a graph, the data follows a bell shape, with most values clustering around a central region and tapering off as they go further away from the center.\n",
    "\n",
    "\n",
    "\n",
    "2. Exponential Distribution:\n",
    "--------------------------------------\n",
    "Models the time between events in a Poisson process, such as the time between arrivals of customers at a service center.\n",
    "\n",
    "3. Uniform Distribution: \n",
    "------------------------------------\n",
    "All values within a specified range are equally likely.\n",
    "\n",
    "In a continuous uniform distribution, outcomes are continuous and infinite. In a normal distribution, data around the mean occur more frequently.\n",
    "\n",
    "4. Beta Distribution:\n",
    "-----------------------------\n",
    "A flexible distribution commonly used as a prior distribution in Bayesian statistics.\n",
    "\n",
    "5. Mixed Probability Distribution:\n",
    "------------------------------------\n",
    "Some distributions combine both discrete and continuous components, and they are referred to as mixed probability distributions. An example of such a distribution is the Continuous Uniform distribution on a bounded interval, which has continuous outcomes between the bounds but with equal probabilities.\n",
    "\n",
    "\n"
   ]
  },
  {
   "cell_type": "markdown",
   "id": "f710bf63-a5eb-49b9-b1ca-0c5805925046",
   "metadata": {},
   "source": [
    "### Q3. Write a Python function to calculate the probability density function of a normal distribution with given mean and standard deviation at a given point."
   ]
  },
  {
   "cell_type": "code",
   "execution_count": 1,
   "id": "7bade83a-b5de-46bd-b222-0689a1eb8c29",
   "metadata": {},
   "outputs": [],
   "source": [
    "import math"
   ]
  },
  {
   "cell_type": "code",
   "execution_count": 13,
   "id": "ea60063a-87ed-4a67-a38b-4e1331d62be2",
   "metadata": {},
   "outputs": [],
   "source": [
    "def normal_distribution(x,mean,std):\n",
    "    coefficient=1/(std*math.sqrt(2*math.pi))\n",
    "    exp=(-1/2)*((x-mean)/std)**2\n",
    "    formula=coefficient*math.exp(exp)\n",
    "    return formula\n",
    "    "
   ]
  },
  {
   "cell_type": "code",
   "execution_count": 14,
   "id": "6f87161f-bece-4df6-8755-fd0994a4e561",
   "metadata": {},
   "outputs": [
    {
     "name": "stdout",
     "output_type": "stream",
     "text": [
      "0.12951759566589174\n"
     ]
    }
   ],
   "source": [
    "mean = 0.0\n",
    "std = 1.0\n",
    "x = 1.5\n",
    "print(normal_distribution(1.5,0.0,1))"
   ]
  },
  {
   "cell_type": "markdown",
   "id": "b45530aa-0313-4e58-be74-a7d80aa910d0",
   "metadata": {},
   "source": [
    "### Q4. What are the properties of Binomial distribution? Give two examples of events where binomial distribution can be applied."
   ]
  },
  {
   "cell_type": "markdown",
   "id": "f2dd5e2e-e4e9-4467-9f87-b759817be183",
   "metadata": {},
   "source": [
    "### Binomial distribution\n",
    "The Binomial distribution is a probability distribution that describes the number of successes in a fixed number of independent Bernoulli trials, where each trial can have only two outcomes: success or failure. The trials are assumed to be independent, and the probability of success (denoted by p) remains constant across all trials\n",
    "\n",
    "### Properties:\n",
    "\n",
    "1. Discreteness: \n",
    "-----------------------\n",
    "The Binomial distribution is a discrete probability distribution since the number of successes can only take on integer values between 0 and n.\n",
    "\n",
    "2. Fixed Number of Trials: \n",
    "---------------------------------\n",
    "The number of trials (n) is fixed and predetermined.\n",
    "\n",
    "3. Independent Trials: \n",
    "----------------------------\n",
    "Each trial is assumed to be independent of others, meaning the outcome of one trial does not influence the outcome of another.\n",
    "\n",
    "4. Constant Probability: \n",
    "-------------------------------\n",
    "The probability of success (p) remains the same for each trial.\n",
    "\n",
    "5. Probability Mass Function: \n",
    "-------------------------------\n",
    "The probability mass function (PMF) of the Binomial distribution gives the probability of obtaining exactly k successes in n trials. The PMF is given by:\n",
    "\n",
    "P(X = k) = C(n, k) * p^k * (1 - p)^(n - k)\n",
    "\n",
    "where X is the random variable representing the number of successes, C(n, k) is the binomial coefficient (n choose k), given by C(n, k) = n! / (k! * (n - k)!), and p is the probability of success.\n",
    "\n",
    "### Examples:\n",
    "\n",
    "1. Coin Flips: \n",
    "--------------------\n",
    "The outcome of flipping a fair coin can be modeled using a Binomial distribution. Each flip has two possible outcomes (heads or tails), and the probability of getting heads (or tails) is constant for each flip.\n",
    "\n",
    "2. Quality Control:\n",
    "------------------------\n",
    "A manufacturing company wants to inspect a batch of products to see how many meet the quality standards. Each product can either meet the standard (success) or not (failure). The Binomial distribution can be used to model the number of products that pass the quality test in a fixed number of inspections."
   ]
  },
  {
   "cell_type": "markdown",
   "id": "bb61fa8b-f987-4ae9-a368-d19d5b31e0b0",
   "metadata": {},
   "source": [
    "### Q5. Generate a random sample of size 1000 from a binomial distribution with probability of success 0.4 and plot a histogram of the results using matplotlib."
   ]
  },
  {
   "cell_type": "code",
   "execution_count": 25,
   "id": "0bb9d0bf-b43c-4b8a-89f7-eb842c74b7ce",
   "metadata": {},
   "outputs": [
    {
     "data": {
      "text/plain": [
       "Text(0, 0.5, 'Probability')"
      ]
     },
     "execution_count": 25,
     "metadata": {},
     "output_type": "execute_result"
    },
    {
     "data": {
      "image/png": "[encoded data removed]",
      "text/plain": [
       "<Figure size 640x480 with 1 Axes>"
      ]
     },
     "metadata": {},
     "output_type": "display_data"
    }
   ],
   "source": [
    "import numpy as np\n",
    "import matplotlib.pyplot as plt\n",
    "sample=np.random.binomial(n=1,p=.4,size=100)\n",
    "plt.hist(sample)\n",
    "plt.title('Binomial Distribution Histogram')\n",
    "plt.xlabel('Success (1) / Failure (0)')\n",
    "plt.ylabel('Probability')"
   ]
  },
  {
   "cell_type": "markdown",
   "id": "9688d6fa-8007-4719-b3ae-eedf83bef376",
   "metadata": {},
   "source": [
    "### Q6. Write a Python function to calculate the cumulative distribution function of a Poisson distribution with given mean at a given point."
   ]
  },
  {
   "cell_type": "code",
   "execution_count": 4,
   "id": "f68fb343-b42a-4f7d-a47b-51d98e5092b8",
   "metadata": {},
   "outputs": [],
   "source": [
    "from math import exp, factorial\n",
    "def poisson_cdf(k, mean):\n",
    "    cdf = 0.0\n",
    "    for x in range(k + 1):\n",
    "        cdf += (mean ** x) * exp(-mean) / factorial(x)\n",
    "    return cdf\n"
   ]
  },
  {
   "cell_type": "markdown",
   "id": "924acfba-3b33-4971-b3ef-b945bb5eeb19",
   "metadata": {},
   "source": [
    "k is the given point (the value at which you want to calculate the CDF)\n",
    "\n",
    "λ is the mean of the Poisson distribution\n",
    "\n",
    "P(X ≤ k) is the cumulative probability of the Poisson distribution at k."
   ]
  },
  {
   "cell_type": "code",
   "execution_count": 5,
   "id": "0c4522ca-8cb0-47f7-8966-4178ebde2878",
   "metadata": {},
   "outputs": [
    {
     "name": "stdout",
     "output_type": "stream",
     "text": [
      "The cumulative distribution function at k = 2 and mean = 3.5 is: (0.3208471988621341, 3.5)\n"
     ]
    }
   ],
   "source": [
    "mean = 3.5\n",
    "k = 2\n",
    "cdf_at_k = poisson_cdf(k, mean)\n",
    "print(f\"The cumulative distribution function at k = {k} and mean = {mean} is: {cdf_at_k,mean}\")"
   ]
  },
  {
   "cell_type": "markdown",
   "id": "eeb637d9-050c-4cc7-8a25-d056eccb0c51",
   "metadata": {},
   "source": [
    "### Q7. How Binomial distribution different from Poisson distribution?"
   ]
  },
  {
   "cell_type": "markdown",
   "id": "6e315505-6095-44c2-9896-4705e368bae7",
   "metadata": {},
   "source": [
    "### Diffrence: \n",
    "\n",
    "#### Binomial Distribution:\n",
    "1. The binomial distribution describes the number of successes in a fixed number of independent Bernoulli trials, where each trial has only two possible outcomes: success (usually denoted as \"1\") or failure (usually denoted as \"0\"). The trials are assumed to be independent and identically distributed, and the probability of success (denoted as \"p\") remains constant throughout the trials.\n",
    "\n",
    "2. Paramater: The binomial distribution is characterized by two parameters: \"n\" (the number of trials) and \"p\" (the probability of success in a single trial).\n",
    "\n",
    "3. Applicability: The binomial distribution is appropriate when you have a fixed number of independent trials, and you want to find the probability of a specific number of successes.\n",
    "\n",
    "4. Shape: The shape of the binomial distribution depends on the values of \"n\" and \"p\" and tends to resemble a bell-shaped curve when \"n\" is large and \"p\" is not too close to 0 or 1.\n",
    "\n",
    "\n"
   ]
  },
  {
   "cell_type": "markdown",
   "id": "82d3f0f2-cbf4-42f8-8848-2ca891bf3f76",
   "metadata": {},
   "source": [
    "#### Poisson Distribution: \n",
    "1. The Poisson distribution describes the number of events that occur in a fixed interval of time or space. It is used to model rare events with low probabilities of occurrence. The events are assumed to be independent, and the average rate of occurrence (denoted as \"λ\" or \"mu\") remains constant over time or space.\n",
    "\n",
    "2. Paramater:   The Poisson distribution is characterized by a single parameter \"λ\" (lambda), which represents the average rate of occurrence of events in the fixed interval.\n",
    "\n",
    "3. Applicability: The Poisson distribution is suitable when you are interested in the number of rare events occurring within a fixed interval, and the events are independent and randomly occurring at a constant average rate.\n",
    "\n",
    "4. Shape: The Poisson distribution is positively skewed, and its shape becomes more bell-shaped as the average rate \"λ\" increases."
   ]
  },
  {
   "cell_type": "markdown",
   "id": "37dfefad-ffa0-413f-98c3-21815495ff8a",
   "metadata": {},
   "source": [
    "### Q8. Generate a random sample of size 1000 from a Poisson distribution with mean 5 and calculate the sample mean and variance."
   ]
  },
  {
   "cell_type": "code",
   "execution_count": 9,
   "id": "023d2eb4-4798-4f23-8529-a71f139b365e",
   "metadata": {},
   "outputs": [],
   "source": [
    "import numpy as np\n",
    "rand_sample=np.random.poisson(lam=5,size=1000)\n"
   ]
  },
  {
   "cell_type": "code",
   "execution_count": 10,
   "id": "ff280a7f-9667-4703-b924-2a315def02a8",
   "metadata": {},
   "outputs": [
    {
     "data": {
      "text/plain": [
       "4.923"
      ]
     },
     "execution_count": 10,
     "metadata": {},
     "output_type": "execute_result"
    }
   ],
   "source": [
    "rand_sample.mean()"
   ]
  },
  {
   "cell_type": "code",
   "execution_count": 12,
   "id": "dbb7308a-c371-4ad5-acc8-bacc1df1202a",
   "metadata": {},
   "outputs": [
    {
     "data": {
      "text/plain": [
       "4.989071"
      ]
     },
     "execution_count": 12,
     "metadata": {},
     "output_type": "execute_result"
    }
   ],
   "source": [
    "rand_sample.var()"
   ]
  },
  {
   "cell_type": "markdown",
   "id": "1fd5665f-202f-4e1f-9299-34d0119f0580",
   "metadata": {},
   "source": [
    "### Q9. How mean and variance are related in Binomial distribution and Poisson distribution?\n"
   ]
  },
  {
   "cell_type": "markdown",
   "id": "20cbf205-b633-4545-943a-3cbe96d43478",
   "metadata": {},
   "source": [
    "##### Binomial Distribution:\n",
    "In a Binomial distribution, where X is the number of successes in \"n\" independent Bernoulli trials, each with a probability \"p\" of success, the mean (μ) and variance (σ^2) are related as follows:\n",
    "\n",
    "##### Mean (μ) = n * p\n",
    "##### Variance (σ^2) = n * p * (1 - p)\n",
    "\n",
    "\"n\" is the number of trials or attempts.\n",
    "\"p\" is the probability of success in a single trial."
   ]
  },
  {
   "cell_type": "markdown",
   "id": "450cdf40-f8fb-46b5-ba13-db06c1b14aed",
   "metadata": {},
   "source": [
    "##### Poisson Distribution:\n",
    "In a Poisson distribution, where X is the number of events occurring in a fixed interval of time or space with an average rate of occurrence of \"λ\" (lambda), the mean (μ) and variance (σ^2) are related as follows:\n",
    "\n",
    "##### Mean (μ) = λ\n",
    "##### Variance (σ^2) = λ\n",
    "\"λ\" (lambda) is the average rate of occurrence of events in the fixed interval."
   ]
  },
  {
   "cell_type": "markdown",
   "id": "9f08a46c-142c-4352-9928-4b5ae8b600db",
   "metadata": {},
   "source": [
    "### Q10. In normal distribution with respect to mean position, where does the least frequent data appear?"
   ]
  },
  {
   "cell_type": "markdown",
   "id": "b65a7732-44eb-4d90-aebb-97225f4305ef",
   "metadata": {},
   "source": [
    "1. In a normal distribution, the least frequent data appears in the tails of the distribution, farthest away from the mean position.\n",
    "\n",
    "2. As you move away from the mean towards the tails of the distribution, the frequency of data points decreases. The tails of the normal distribution represent the extreme values or outliers, and these occur with the lowest frequency in the data set.\n",
    "\n",
    "3. In a standard normal distribution (a specific type of normal distribution with a mean of 0 and a standard deviation of 1), approximately 68% of the data falls within one standard deviation from the mean, about 95% falls within two standard deviations, and around 99.7% falls within three standard deviations.\n",
    "\n",
    "\n"
   ]
  },
  {
   "cell_type": "code",
   "execution_count": null,
   "id": "87d5df6e-3422-4e1e-b110-9e55e669a94d",
   "metadata": {},
   "outputs": [],
   "source": []
  },
  {
   "cell_type": "code",
   "execution_count": null,
   "id": "4212ffaa-5d8f-4e1f-aae0-8ca277f7eafd",
   "metadata": {},
   "outputs": [],
   "source": []
  },
  {
   "cell_type": "code",
   "execution_count": null,
   "id": "ed060a01-0a9d-41c0-813c-a51bf041dba0",
   "metadata": {},
   "outputs": [],
   "source": []
  },
  {
   "cell_type": "code",
   "execution_count": null,
   "id": "85238930-1518-468e-97b7-0ff0c2e44bfa",
   "metadata": {},
   "outputs": [],
   "source": []
  },
  {
   "cell_type": "code",
   "execution_count": null,
   "id": "d4bb0fb7-1dbb-4884-942f-036d4c81a432",
   "metadata": {},
   "outputs": [],
   "source": []
  },
  {
   "cell_type": "code",
   "execution_count": null,
   "id": "55df77d8-76c6-4d5d-985a-1fba2cb84508",
   "metadata": {},
   "outputs": [],
   "source": []
  },
  {
   "cell_type": "code",
   "execution_count": null,
   "id": "9f2d0fff-576c-440f-81dc-4c77a38b5772",
   "metadata": {},
   "outputs": [],
   "source": []
  },
  {
   "cell_type": "code",
   "execution_count": null,
   "id": "b8778d2d-7699-478a-b502-25bef4a537c0",
   "metadata": {},
   "outputs": [],
   "source": []
  },
  {
   "cell_type": "code",
   "execution_count": null,
   "id": "7387fbba-f782-41b0-a18f-1804e89fe642",
   "metadata": {},
   "outputs": [],
   "source": []
  },
  {
   "cell_type": "code",
   "execution_count": null,
   "id": "de3ff88b-6b1a-46ee-a36b-542b008e23dd",
   "metadata": {},
   "outputs": [],
   "source": []
  },
  {
   "cell_type": "code",
   "execution_count": null,
   "id": "88068512-3d71-4bb6-a15c-f31b0d6e10d2",
   "metadata": {},
   "outputs": [],
   "source": []
  },
  {
   "cell_type": "code",
   "execution_count": null,
   "id": "c1e7f114-1eb9-4c87-89be-8b26248da0b3",
   "metadata": {},
   "outputs": [],
   "source": []
  },
  {
   "cell_type": "code",
   "execution_count": null,
   "id": "d26aae43-a3fd-4f6b-92d7-b4b0b0f9fe9e",
   "metadata": {},
   "outputs": [],
   "source": []
  },
  {
   "cell_type": "code",
   "execution_count": null,
   "id": "13c923b4-fdfe-40ea-8acb-ab08f01941ef",
   "metadata": {},
   "outputs": [],
   "source": []
  },
  {
   "cell_type": "code",
   "execution_count": null,
   "id": "6912334f-689f-4e71-aa26-65942b214815",
   "metadata": {},
   "outputs": [],
   "source": []
  },
  {
   "cell_type": "code",
   "execution_count": null,
   "id": "20e2d760-25a1-4eb2-afa1-e77ea01fd654",
   "metadata": {},
   "outputs": [],
   "source": []
  },
  {
   "cell_type": "code",
   "execution_count": null,
   "id": "19dd3c51-fac6-4d83-8e66-3932f54bf379",
   "metadata": {},
   "outputs": [],
   "source": []
  },
  {
   "cell_type": "code",
   "execution_count": null,
   "id": "3418a892-e5fe-4d44-bfb4-32a28bba4133",
   "metadata": {},
   "outputs": [],
   "source": []
  },
  {
   "cell_type": "code",
   "execution_count": null,
   "id": "ccd9b7a8-6dc2-45d3-aa65-f77acccbfdfd",
   "metadata": {},
   "outputs": [],
   "source": []
  },
  {
   "cell_type": "code",
   "execution_count": null,
   "id": "238b46ca-a5b3-4373-a211-e1e668882a72",
   "metadata": {},
   "outputs": [],
   "source": []
  },
  {
   "cell_type": "code",
   "execution_count": null,
   "id": "65f902e0-8b9d-457c-a77e-26d00cfef295",
   "metadata": {},
   "outputs": [],
   "source": []
  },
  {
   "cell_type": "code",
   "execution_count": null,
   "id": "b97f8c4b-1c57-4f92-9af7-2b9db2f48384",
   "metadata": {},
   "outputs": [],
   "source": []
  },
  {
   "cell_type": "code",
   "execution_count": null,
   "id": "0ec37e87-f8db-4ff2-9e56-2f80e6b08689",
   "metadata": {},
   "outputs": [],
   "source": []
  },
  {
   "cell_type": "code",
   "execution_count": null,
   "id": "fa97cd71-c6da-4e8f-b914-c425eb2cd353",
   "metadata": {},
   "outputs": [],
   "source": []
  },
  {
   "cell_type": "code",
   "execution_count": null,
   "id": "f56c4cb0-879b-4653-99bd-f7fc20679bd2",
   "metadata": {},
   "outputs": [],
   "source": []
  },
  {
   "cell_type": "code",
   "execution_count": null,
   "id": "57e24549-96e3-4871-8ea5-2f1dfe64cceb",
   "metadata": {},
   "outputs": [],
   "source": []
  },
  {
   "cell_type": "code",
   "execution_count": null,
   "id": "0e25c6bc-3312-49e4-b4cd-175f56f9c8b7",
   "metadata": {},
   "outputs": [],
   "source": []
  }
 ],
 "metadata": {
  "kernelspec": {
   "display_name": "Python 3 (ipykernel)",
   "language": "python",
   "name": "python3"
  },
  "language_info": {
   "codemirror_mode": {
    "name": "ipython",
    "version": 3
   },
   "file_extension": ".py",
   "mimetype": "text/x-python",
   "name": "python",
   "nbconvert_exporter": "python",
   "pygments_lexer": "ipython3",
   "version": "3.10.8"
  }
 },
 "nbformat": 4,
 "nbformat_minor": 5
}
